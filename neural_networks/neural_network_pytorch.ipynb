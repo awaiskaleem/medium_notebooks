{
 "cells": [
  {
   "cell_type": "code",
   "execution_count": 1,
   "metadata": {},
   "outputs": [
    {
     "name": "stdout",
     "output_type": "stream",
     "text": [
      "MPS Available: True\n"
     ]
    }
   ],
   "source": [
    "import torch\n",
    "print(\"MPS Available:\", torch.backends.mps.is_available())"
   ]
  },
  {
   "cell_type": "code",
   "execution_count": null,
   "metadata": {},
   "outputs": [
    {
     "name": "stdout",
     "output_type": "stream",
     "text": [
      "Using device: mps\n",
      "Epoch 0, Loss: 0.6910756826400757\n",
      "Epoch 100, Loss: 0.39791983366012573\n",
      "Epoch 200, Loss: 0.3723345100879669\n",
      "Epoch 300, Loss: 0.35688722133636475\n",
      "Epoch 400, Loss: 0.34792259335517883\n",
      "Epoch 500, Loss: 0.34193429350852966\n",
      "Epoch 600, Loss: 0.33757540583610535\n",
      "Epoch 700, Loss: 0.33397436141967773\n",
      "Epoch 800, Loss: 0.33098170161247253\n",
      "Epoch 900, Loss: 0.3282948136329651\n",
      "✅ Accuracy: 85.86%\n"
     ]
    }
   ],
   "source": [
    "import torch\n",
    "import torch.nn as nn\n",
    "import torch.optim as optim\n",
    "import pandas as pd\n",
    "\n",
    "# ✅ Move computations to GPU if available\n",
    "device = torch.device(\"mps\" if torch.backends.mps.is_available() else \"cpu\")\n",
    "print(f\"Using device: {device}\")\n",
    "\n",
    "# Load Titanic dataset using Pandas\n",
    "df = pd.read_csv(\"titanic.csv\")\n",
    "\n",
    "# Preprocessing: Fill missing values, encode categorical features\n",
    "df[\"Age\"].fillna(df[\"Age\"].median(), inplace=True)\n",
    "df[\"Fare\"].fillna(df[\"Fare\"].median(), inplace=True)\n",
    "df[\"Sex\"] = df[\"Sex\"].map({\"male\": 0, \"female\": 1})\n",
    "\n",
    "# Normalize numerical columns\n",
    "for col in [\"Age\", \"Fare\"]:\n",
    "    df[col] = (df[col] - df[col].min()) / (df[col].max() - df[col].min())\n",
    "\n",
    "# Select features and target\n",
    "features = [\"Pclass\", \"Sex\", \"Age\", \"SibSp\", \"Parch\", \"Fare\"]\n",
    "label = \"Survived\"\n",
    "\n",
    "# Convert to PyTorch tensors and move to GPU\n",
    "X = torch.tensor(df[features].values, dtype=torch.float32).to(device)\n",
    "y = torch.tensor(df[label].values, dtype=torch.float32).view(-1, 1).to(device)\n",
    "\n",
    "# Define the neural network\n",
    "class TitanicNN(nn.Module):\n",
    "    def __init__(self, input_size, hidden_size, output_size):\n",
    "        super(TitanicNN, self).__init__()\n",
    "        self.fc1 = nn.Linear(input_size, hidden_size)\n",
    "        self.relu = nn.ReLU()\n",
    "        self.fc2 = nn.Linear(hidden_size, output_size)\n",
    "        self.sigmoid = nn.Sigmoid()\n",
    "\n",
    "    def forward(self, x):\n",
    "        x = self.fc1(x)\n",
    "        x = self.relu(x)\n",
    "        x = self.fc2(x)\n",
    "        x = self.sigmoid(x)\n",
    "        return x\n",
    "\n",
    "# Initialize the model and move to GPU\n",
    "model = TitanicNN(input_size=len(features), hidden_size=15, output_size=1).to(device)\n",
    "\n",
    "# Loss function and optimizer\n",
    "criterion = nn.BCELoss()  # Binary Cross Entropy Loss for classification\n",
    "optimizer = optim.Adam(model.parameters(), lr=0.01)\n",
    "\n",
    "# Training loop\n",
    "epochs = 1000\n",
    "for epoch in range(epochs):\n",
    "    optimizer.zero_grad()\n",
    "    outputs = model(X)\n",
    "    loss = criterion(outputs, y)\n",
    "    loss.backward()\n",
    "    optimizer.step()\n",
    "\n",
    "    if epoch % 100 == 0:\n",
    "        print(f\"Epoch {epoch}, Loss: {loss.item()}\")\n",
    "\n",
    "# Evaluate accuracy\n",
    "with torch.no_grad():\n",
    "    predictions = model(X)\n",
    "    predictions = (predictions > 0.5).float()\n",
    "    accuracy = (predictions == y).sum().item() / len(y)\n",
    "    print(f\"✅ Accuracy: {accuracy * 100:.2f}%\")"
   ]
  },
  {
   "cell_type": "code",
   "execution_count": null,
   "metadata": {},
   "outputs": [],
   "source": []
  }
 ],
 "metadata": {
  "kernelspec": {
   "display_name": ".venv",
   "language": "python",
   "name": "python3"
  },
  "language_info": {
   "codemirror_mode": {
    "name": "ipython",
    "version": 3
   },
   "file_extension": ".py",
   "mimetype": "text/x-python",
   "name": "python",
   "nbconvert_exporter": "python",
   "pygments_lexer": "ipython3",
   "version": "3.10.16"
  }
 },
 "nbformat": 4,
 "nbformat_minor": 2
}
